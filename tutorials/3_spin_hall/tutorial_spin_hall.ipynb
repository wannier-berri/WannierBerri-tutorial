{
 "cells": [
  {
   "cell_type": "markdown",
   "id": "2aaef676",
   "metadata": {},
   "source": [
    "# WannierBerri advanced tutorial - Spin Hall conductivity"
   ]
  },
  {
   "cell_type": "markdown",
   "id": "82c82a6a",
   "metadata": {},
   "source": [
    "author: Jae-Mo Lihm (jaemo.lihm@gmail.com) and Minsu Ghim (minsu.ghim.physics@gmail.com)"
   ]
  },
  {
   "cell_type": "markdown",
   "id": "c6a39308",
   "metadata": {},
   "source": [
    "In this tutorial, we calculate the spin Berry curvature and the spin Hall conductivity of bcc Platinum. We compare the two methods for calculating the spin velocity matrix, which we call the \"Qiao\" method [1] and the \"Ryoo\" method [2].\n",
    "\n",
    "[1] [J. Qiao et al, Phys. Rev. B 98, 214402 (2018)](https://journals.aps.org/prb/abstract/10.1103/PhysRevB.98.214402) <br>\n",
    "[2] [J. H. Ryoo et al, Phys. Rev. B 99, 235113 (2019)](https://journals.aps.org/prb/abstract/10.1103/PhysRevB.99.235113)\n",
    "\n",
    "Both methods use the Kubo formula to calculate spin Hall conductivity under time-reversal symmetry:\n",
    "\n",
    "\\begin{equation}\n",
    "\\sigma^{{\\rm SHC}, \\gamma}_{\\alpha\\beta} = \\frac{-e\\hbar}{N_k V_c}\\sum_{\\bf k}\\sum_{n,m}\\left(f_{n{\\bf k}}-f_{m{\\bf k}}\\right)\\frac{\\textrm{Im}\\left[\\langle\\psi_{n{\\bf k}}\\vert \\frac{1}{2}\\{ s^{\\gamma}, v_\\alpha \\} \\vert\\psi_{m{\\bf k}}\\rangle\\langle\\psi_{m{\\bf k}}\\vert v_\\beta\\vert\\psi_{n{\\bf k}}\\rangle\\right]}{(\\varepsilon_{n{\\bf k}}-\\varepsilon_{m{\\bf k}})^2-(\\hbar\\omega+i\\eta)^2}\\,,\n",
    "\\label{eq:shc}\\tag{1}\n",
    "\\end{equation}\n",
    "\n",
    "where $\\alpha$, $\\beta$, $\\gamma$ are respectively the direction of spin current, applied electric field, and spin polarisation.\n",
    "\n",
    "The \"Ryoo\" method requires `.chk`, `.eig`, `.mmn`, `.spn`, `.sHu`, and `.sIu` files to calculate the spin velocity matrix in (\\ref{eq:shc}), $\\langle\\psi_{n{\\bf k}}\\vert \\frac{1}{2}\\{ s^{\\gamma}, v_\\alpha \\} \\vert\\psi_{m{\\bf k}}\\rangle$,from pw2wannier90.x,\n",
    "while the \"Qiao\" method does not use the last two files, and instead applies an approximation $\\mathbf{1}=\\sum_{l\\in \\it{ab\\,initio}} \\vert u_{l{\\bf q}}\\rangle\\langle u_{l{\\bf q}}\\vert$.\n",
    "The `sHu` and `sIu` files are calculated by setting `write_sHu = .true.` and `write_sIu = .true.` to the `pw2wannier90.x` input file: see `data_Pt/pw2wan.in`."
   ]
  },
  {
   "cell_type": "code",
   "execution_count": null,
   "id": "1600e4af",
   "metadata": {},
   "outputs": [],
   "source": [
    "# Preliminary (Do only once)\n",
    "%load_ext autoreload\n",
    "%autoreload 2\n",
    "\n",
    "# Set environment variables - not mandatory but recommended\n",
    "import os\n",
    "os.environ['OPENBLAS_NUM_THREADS'] = '1' \n",
    "os.environ['MKL_NUM_THREADS'] = '1'\n",
    "\n",
    "\n",
    "import wannierberri as wberri\n",
    "import numpy as np\n",
    "import scipy\n",
    "import matplotlib.pyplot as plt\n",
    "\n",
    "#  This block is needed if you run this cell for a second time\n",
    "#  because one cannot initiate two parallel environments at a time\n",
    "try:\n",
    "    parallel.shutdown()   \n",
    "except NameError:\n",
    "    pass\n",
    "\n",
    "parallel = wberri.Parallel(num_cpus=4, progress_step_percent=10)"
   ]
  },
  {
   "cell_type": "markdown",
   "id": "ee9adb8f",
   "metadata": {},
   "source": [
    "### Model, band structure"
   ]
  },
  {
   "cell_type": "markdown",
   "id": "c674c7a6",
   "metadata": {},
   "source": [
    "We load the system from a Wannier90 output. Note the arguments `SHCryoo=True` and `SHCqiao=True` which are required to compute spin Hall conductivity using the Ryoo and Qiao methods, respectively.\n",
    "\n",
    "We set symmetry using the `set_symmetry_from_structure` method, which calls spglib to automatically determine the symmetry of the system.\n",
    "\n",
    "<!-- We also symmetrize the system. See `data_Pt/Pt.win` file and check that the initial projections are correct. For details, refer to the symmetrization tutorial. -->"
   ]
  },
  {
   "cell_type": "code",
   "execution_count": null,
   "id": "dfa25b73",
   "metadata": {},
   "outputs": [],
   "source": [
    "system = wberri.System_w90(\"data_Pt/Pt\", berry=True, SHCryoo=True, SHCqiao=True)\n",
    "system.set_structure([[0., 0., 0.]], [\"Pt\"])\n",
    "system.set_symmetry_from_structure()\n",
    "\n",
    "efermi = 18.1605"
   ]
  },
  {
   "cell_type": "code",
   "execution_count": null,
   "id": "1c11f61a",
   "metadata": {},
   "outputs": [],
   "source": [
    "path = wberri.Path(\n",
    "    system,\n",
    "    k_nodes=[\n",
    "        [0.25, 0.75, 0.50], # W\n",
    "        [0.50, 0.50, 0.50], # L\n",
    "        [0.00, 0.00, 0.00], # Gamma\n",
    "        [0.50, 0.00, 0.50], # X\n",
    "        [0.50, 0.25, 0.75], # W\n",
    "        [0.00, 0.00, 0.00], # Gamma\n",
    "    ],\n",
    "    labels=[\"W\", \"L\", \"$\\Gamma$\", \"X\", \"W\", \"$\\Gamma$\"],\n",
    "    length=300,\n",
    ")\n",
    "\n",
    "from wannierberri import calculators as calc\n",
    "calculators = {}\n",
    "calculators[\"tabulate\"] = calc.TabulatorAll(\n",
    "    {\"Energy\": calc.tabulate.Energy()},\n",
    "    ibands=np.arange(system.num_wann),\n",
    "    mode=\"path\",\n",
    ")\n",
    "\n",
    "path_result = wberri.run(\n",
    "    system,\n",
    "    grid=path,\n",
    "    calculators=calculators,\n",
    "    parallel=parallel,\n",
    "    print_Kpoints = False,\n",
    ")"
   ]
  },
  {
   "cell_type": "code",
   "execution_count": null,
   "id": "30e9dbce",
   "metadata": {},
   "outputs": [],
   "source": [
    "fig = path_result.results[\"tabulate\"].plot_path_fat(path, close_fig=False, show_fig=False)\n",
    "\n",
    "ax = fig.get_axes()[0]\n",
    "ax.axhline(efermi, c=\"r\", ls=\"--\")\n",
    "plt.show(fig)"
   ]
  },
  {
   "cell_type": "markdown",
   "id": "781d482a",
   "metadata": {},
   "source": [
    "## Static spin Hall conductivity\n",
    "\n",
    "We calculate the static (i.e. DC) spin Hall conductivity. We fix $\\omega$ to 0 and scan the Fermi energy."
   ]
  },
  {
   "cell_type": "code",
   "execution_count": null,
   "id": "f74ce1b6",
   "metadata": {},
   "outputs": [],
   "source": [
    "from wannierberri import calculators as calc\n",
    "\n",
    "efermi_list = np.linspace(efermi - 1.0, efermi + 1.0, 101, True)\n",
    "\n",
    "kwargs = dict(\n",
    "    Efermi=efermi_list,\n",
    "    omega=np.array([0.]),\n",
    "    smr_fixed_width = 0.1, # Smearing for frequency in eV\n",
    "    kBT = 0.026, # Smearing for Fermi level (Fermi-Dirac factor) in eV (not Kelvin)\n",
    ")\n",
    "\n",
    "calculators = dict(\n",
    "    SHC_ryoo = calc.dynamic.SHC(SHC_type=\"ryoo\", **kwargs),\n",
    "    SHC_qiao = calc.dynamic.SHC(SHC_type=\"qiao\", **kwargs),\n",
    ")"
   ]
  },
  {
   "cell_type": "code",
   "execution_count": null,
   "id": "ffb8c55a",
   "metadata": {},
   "outputs": [],
   "source": [
    "nk = 30\n",
    "grid = wberri.Grid(system, NK=nk)\n",
    "result = wberri.run(\n",
    "    system,\n",
    "    grid=grid,\n",
    "    calculators=calculators,\n",
    "    parallel=parallel,\n",
    "    print_Kpoints = False,\n",
    ")"
   ]
  },
  {
   "cell_type": "markdown",
   "id": "3ee944a6",
   "metadata": {},
   "source": [
    "The SHC data has 5 indices:\n",
    "1. The Fermi level index,\n",
    "2. The frequency index,\n",
    "3. The spin current direction index,\n",
    "4. The electric field direction index, and\n",
    "5. The spin polarization index."
   ]
  },
  {
   "cell_type": "code",
   "execution_count": null,
   "id": "4089e193",
   "metadata": {},
   "outputs": [],
   "source": [
    "print(\"result.results[\\\"SHC_ryoo\\\"].data.shape = \", result.results[\"SHC_ryoo\"].data.shape)"
   ]
  },
  {
   "cell_type": "code",
   "execution_count": null,
   "id": "5b9a084c",
   "metadata": {},
   "outputs": [],
   "source": [
    "print (result.results[\"SHC_ryoo\"].data.shape)\n",
    "print (result.results[\"SHC_qiao\"].data.shape)\n",
    "shc_ryoo = result.results[\"SHC_ryoo\"].data[:, 0,  0, 1, 2]\n",
    "shc_qiao = result.results[\"SHC_qiao\"].data[:, 0, 0, 1, 2]\n",
    "\n",
    "fig, axes = plt.subplots(1, 2, figsize=(12, 4))\n",
    "axes[0].plot(omega, shc_ryoo.real, label=\"Ryoo\")\n",
    "axes[0].plot(omega, shc_qiao.real, label=\"Qiao\")\n",
    "axes[1].plot(omega, shc_ryoo.imag)\n",
    "axes[1].plot(omega, shc_qiao.imag)\n",
    "for ax in axes:\n",
    "    ax.set_xlabel(\"omega (eV)\")\n",
    "    ax.axhline(0, c=\"k\")\n",
    "axes[0].set_ylabel(\"Re(SHC)\")\n",
    "axes[1].set_ylabel(\"Im(SHC)\")\n",
    "axes[0].legend()\n",
    "plt.show()"
   ]
  },
  {
   "cell_type": "markdown",
   "id": "2ff10c80",
   "metadata": {},
   "source": [
    "## Dynamic spin Hall conductivity\n",
    "\n",
    "We calculate the dynamic (i.e. frequency-dependent, AC) spin Hall conductivity. We fix the Fermi energy to the value `efermi` and scan the frequency in the range `omega`.\n",
    "\n",
    "The `smr_fixed_width` parameter controls the smearing of the frequency-dependent terms (delta functions and principal values)."
   ]
  },
  {
   "cell_type": "code",
   "execution_count": null,
   "id": "15feb263",
   "metadata": {},
   "outputs": [],
   "source": [
    "from wannierberri import calculators as calc\n",
    "\n",
    "omega = np.linspace(0, 4, 101, True)\n",
    "\n",
    "kwargs = dict(\n",
    "    Efermi=np.array([efermi]),\n",
    "    omega=omega,\n",
    "    smr_fixed_width = 0.1, # Smearing for frequency in eV\n",
    "    kBT = 0.026, # Smearing for Fermi level (Fermi-Dirac factor)\n",
    ")\n",
    "\n",
    "calculators = dict(\n",
    "    SHC_ryoo = calc.dynamic.SHC(SHC_type=\"ryoo\", **kwargs),\n",
    "    SHC_qiao = calc.dynamic.SHC(SHC_type=\"qiao\", **kwargs),\n",
    ")"
   ]
  },
  {
   "cell_type": "code",
   "execution_count": null,
   "id": "7ed7466d",
   "metadata": {},
   "outputs": [],
   "source": [
    "nk = 30\n",
    "grid = wberri.Grid(system, NK=nk)\n",
    "result = wberri.run(\n",
    "    system,\n",
    "    grid=grid,\n",
    "    calculators=calculators,\n",
    "    parallel=parallel,\n",
    "    print_Kpoints = False,\n",
    ")"
   ]
  },
  {
   "cell_type": "code",
   "execution_count": null,
   "id": "d051df23",
   "metadata": {},
   "outputs": [],
   "source": [
    "shc_ryoo = result.results[\"SHC_ryoo\"].data[0, :, 0, 1, 2]\n",
    "shc_qiao = result.results[\"SHC_qiao\"].data[0, :, 0, 1, 2]\n",
    "\n",
    "fig, axes = plt.subplots(1, 2, figsize=(12, 4))\n",
    "axes[0].plot(omega, shc_ryoo.real, label=\"Ryoo\")\n",
    "axes[0].plot(omega, shc_qiao.real, label=\"Qiao\")\n",
    "axes[1].plot(omega, shc_ryoo.imag)\n",
    "axes[1].plot(omega, shc_qiao.imag)\n",
    "for ax in axes:\n",
    "    ax.set_xlabel(\"omega (eV)\")\n",
    "    ax.axhline(0, c=\"k\")\n",
    "axes[0].set_ylabel(\"Re(SHC)\")\n",
    "axes[1].set_ylabel(\"Im(SHC)\")\n",
    "axes[0].legend()\n",
    "plt.show()"
   ]
  },
  {
   "cell_type": "markdown",
   "id": "c987c8b2",
   "metadata": {},
   "source": [
    "## Spin Berry curvature"
   ]
  },
  {
   "cell_type": "markdown",
   "id": "9637f48f",
   "metadata": {},
   "source": [
    "To understand the microscopic origin of the spin Hall conductivity, one may inspect the k-resolved spin Berry curvature.\n",
    "Eq. (\\ref{eq:shc}) is recast into the sum of a Berry-curvature-like term, the spin Berry curvature.\n",
    "\n",
    "The spin Berry curvature is\n",
    "\n",
    "\\begin{equation}\n",
    "  \\Omega^{n, \\gamma}_{\\alpha\\beta}({\\bf k}) = -\\sum_{m \\neq n}\\frac{2\\textrm{Im}\\left[\\langle\\psi_{n{\\bf k}}\\vert \\frac{1}{2}\\{ s^{\\gamma}, v_\\alpha \\} \\vert\\psi_{m{\\bf k}}\\rangle\\langle\\psi_{m{\\bf k}}\\vert v_\\beta\\vert\\psi_{n{\\bf k}}\\rangle\\right]}{(\\varepsilon_{n{\\bf k}}-\\varepsilon_{m{\\bf k}})^2-(i\\eta)^2}\\,,\n",
    "  \\label{eq:sbc}\\tag{2}\n",
    "\\end{equation}\n",
    "\n",
    "and the k-resolved spin Berry curvature summed over the band index is\n",
    "\n",
    "\\begin{equation}\n",
    "  \\Omega^{\\gamma}_{\\alpha\\beta}({\\bf k}) = \\sum_{n}f_{n{\\bf k}}\\Omega^{n, \\gamma}_{\\alpha\\beta}({\\bf k})\\,.\n",
    "  \\label{eq:sbc_k_resolved}\\tag{3}\n",
    "\\end{equation}\n",
    "\\begin{equation}\n",
    "  \\sigma^{{\\rm SHC}, \\gamma}_{\\alpha\\beta} = \\frac{-e\\hbar}{N_k\\Omega_c}\\sum_{\\bf k}\\Omega^{\\gamma}_{\\alpha\\beta}({\\bf k})\n",
    "  \\label{eq:shc_sbc}\\tag{4}\n",
    "\\end{equation}\n",
    "\n",
    "Therefore, where in the k-space contributes to the total SHC can be investigated using the k-resolved spin Berry curvature.\n",
    "\n",
    "Here, we compute the spin Berry curvature again using the Ryoo method and the Qiao method.\n",
    "Note that we pass the spin curren type as a `kwargs_formula` to the calculator, e.g. `kwargs_formula=dict(spin_current_type=\"ryoo\")`."
   ]
  },
  {
   "cell_type": "code",
   "execution_count": null,
   "id": "aba08a03",
   "metadata": {},
   "outputs": [],
   "source": [
    "from wannierberri import calculators as calc\n",
    "calculators = {}\n",
    "calculators[\"tabulate\"] = calc.TabulatorAll(\n",
    "     {\n",
    "         \"Energy\": calc.tabulate.Energy(),\n",
    "         'spin_berry_ryoo': calc.tabulate.SpinBerry(kwargs_formula=dict(spin_current_type=\"ryoo\"), degen_thresh=1e-2),\n",
    "         'spin_berry_qiao': calc.tabulate.SpinBerry(kwargs_formula=dict(spin_current_type=\"qiao\"), degen_thresh=1e-2),\n",
    "     },\n",
    "    ibands=np.arange(system.num_wann),\n",
    "    mode=\"path\",\n",
    " )"
   ]
  },
  {
   "cell_type": "code",
   "execution_count": null,
   "id": "554a8c61",
   "metadata": {},
   "outputs": [],
   "source": [
    "path = wberri.Path(\n",
    "    system,\n",
    "    k_nodes=[\n",
    "        [0.25, 0.75, 0.50], # W\n",
    "        [0.50, 0.50, 0.50], # L\n",
    "        [0.00, 0.00, 0.00], # Gamma\n",
    "        [0.50, 0.00, 0.50], # X\n",
    "        [0.50, 0.25, 0.75], # W\n",
    "        [0.00, 0.00, 0.00], # Gamma\n",
    "    ],\n",
    "    labels=[\"W\", \"L\", \"$\\Gamma$\", \"X\", \"W\", \"$\\Gamma$\"],\n",
    "    length=600,\n",
    ")\n",
    "\n",
    "result_spin_berry = wberri.run(\n",
    "    system,\n",
    "    grid=path,\n",
    "    calculators=calculators,\n",
    "    parallel = parallel,\n",
    "    print_Kpoints = False,\n",
    ")"
   ]
  },
  {
   "cell_type": "markdown",
   "id": "665b73e3",
   "metadata": {},
   "source": [
    "Now we sum over bands to compute the k-resolved spin Berry curvature:\n",
    "$$\\Omega^{\\gamma}_{\\alpha\\beta}({\\bf k}) = \\sum_{n \\in {\\rm occ.}} \\Omega^{n, \\gamma}_{\\alpha\\beta}({\\bf k})$$"
   ]
  },
  {
   "cell_type": "code",
   "execution_count": null,
   "id": "90ca392d",
   "metadata": {},
   "outputs": [],
   "source": [
    "nk = path.K_list.shape[0]\n",
    "spin_berry_ryoo = np.zeros((nk, 3, 3, 3))\n",
    "spin_berry_qiao = np.zeros((nk, 3, 3, 3))\n",
    "\n",
    "for iband in range(system.num_wann):\n",
    "    # Get the data for iband-th band\n",
    "    e = result_spin_berry.results[\"tabulate\"].get_data(\"Energy\", iband)\n",
    "    spin_berry_ryoo_nk = result_spin_berry.results[\"tabulate\"].get_data(\"spin_berry_ryoo\", iband)\n",
    "    spin_berry_qiao_nk = result_spin_berry.results[\"tabulate\"].get_data(\"spin_berry_qiao\", iband)\n",
    "\n",
    "    # Select k-point indices where the iband-th band is occupied\n",
    "    inds_occupied = e < efermi\n",
    "    \n",
    "    # Add the spin Berry curvature of those bands\n",
    "    spin_berry_ryoo[inds_occupied] += spin_berry_ryoo_nk[inds_occupied]\n",
    "    spin_berry_qiao[inds_occupied] += spin_berry_qiao_nk[inds_occupied]"
   ]
  },
  {
   "cell_type": "code",
   "execution_count": null,
   "id": "71bd45bb",
   "metadata": {},
   "outputs": [],
   "source": [
    "def get_signed_log10(x):\n",
    "    return np.log10(abs(x)) * np.sign(x)\n",
    "    \n",
    "kline = path.getKline()\n",
    "plt.plot(kline, get_signed_log10(spin_berry_ryoo[:, 0, 1, 2]), \"k-\", label='Ryoo')\n",
    "plt.plot(kline, get_signed_log10(spin_berry_qiao[:, 0, 1, 2]), \"r--\", label='Qiao')\n",
    "\n",
    "for i in path.labels.keys():\n",
    "    plt.axvline(kline[i], c=\"k\", lw=1)\n",
    "plt.xticks([kline[i] for i in path.labels.keys()], path.labels.values())\n",
    "plt.xlim([min(kline), max(kline)])\n",
    "plt.axhline(0, c=\"k\", lw=1)\n",
    "plt.legend()\n",
    "plt.title(\"$\\mathrm{log}_{10} \\Omega_\\mathbf{k}$\")\n",
    "\n",
    "plt.show()"
   ]
  },
  {
   "cell_type": "markdown",
   "id": "6499a756",
   "metadata": {},
   "source": [
    "You can find that the spin Berry curvature calculated using the Qiao method shows more \"wiggles\" than the Ryoo method. This numerical difference has been first reported in [T. Ng et al, PRB 104 014412 (2021)](https://journals.aps.org/prb/abstract/10.1103/PhysRevB.104.014412):\n",
    "\n",
    ">  It is worth\n",
    "noting that there is jittering along Γ-Z, which occurs in the same path in WTe2 using the same method [22] (Qiao et al). However, such jittering disappears and the spin Berry curvature along Γ-Z becomes a smooth function using the method in Ref. [45] (Ryoo et al)."
   ]
  },
  {
   "cell_type": "markdown",
   "id": "9499779c",
   "metadata": {},
   "source": [
    "## Generating .sHu and .sIu from .mmn and .spn: mmn2uHu \n",
    "\n",
    "Even if you have not obtained .shu and .sIu from an ab initio code, you can make them from the overlap matrix and the spin matrix. Wannierberri provides the utility `wannierberri.utils.mmn2uHu`, which calculated the matrices `.uHu`, `.uIu`, `.sHu`, and/or `.sIu` from the `.mmn`, `.spn`, `.eig` matrices, and also reduces the number of bands in `.amn`, `.mmn`, `.eig`  and `.spn` files, by means of the sum-over-states formula\n",
    "\n",
    "\\begin{equation}\n",
    "  \\langle u_{m{\\bf q}}\\vert\\hat{s}\\hat{H}_{\\bf q}\\vert u_{n{\\bf q}+\\mathbf{b}}\\rangle \\approx \\sum_l^{l_{\\rm max}}  \\left(s_{lm}({\\bf q})\\right)^* E_{l{\\bf q}}   M_{ln}^{\\mathbf{b}}({\\bf q})\\,.\n",
    "\\label{eq:sHu}\\tag{5}\n",
    "\\end{equation}\n",
    "\n",
    "\\begin{equation}\n",
    "  \\langle u_{m{\\bf q}}\\vert\\hat{s}\\vert u_{n{\\bf q}+\\mathbf{b}}\\rangle \\approx \\sum_l^{l_{\\rm max}}  \\left(s_{lm}({\\bf q})\\right)^*   M_{ln}^{\\mathbf{b}}({\\bf q})\\,.\n",
    "\\label{eq:sIu}\\tag{6}\n",
    "\\end{equation}\n",
    "\n",
    "Here, $l_{\\rm max}$ cannot exceed the number of bands included in the Wannier90 calculation (i.e. the `num_bands` parameter in `Pt.win`).\n",
    "\n",
    "The `mmn2uHu` utility can be particularly useful when the calculation of `sHu` and `sIu` files are not implemented in the DFT code you are using."
   ]
  },
  {
   "cell_type": "code",
   "execution_count": null,
   "id": "b6bac6b5",
   "metadata": {},
   "outputs": [],
   "source": [
    "from wannierberri.utils import mmn2uHu as mmn2uHu\n",
    "os.chdir(\"data_Pt\")\n",
    "mmn2uHu.run_mmn2uHu(PREFIX=\"Pt\", writeSHU=True, writeSIU=True, NBout=18, NBsum=24)\n",
    "\n",
    "# For a command-line execution of the mmn2uHu utility, use\n",
    "# python3 -m wannierberri.utils.mmn2uHu Pt NBout=18,NBsum=24,targets=sHu,sIu\n",
    "\n",
    "# Rename sHu and sIu files\n",
    "import shutil\n",
    "shutil.move(\"reduced_NB=24/Pt_nbs=24.sHu\", \"reduced_NB=24/Pt.sHu\")\n",
    "shutil.move(\"reduced_NB=24/Pt_nbs=24.sIu\", \"reduced_NB=24/Pt.sIu\")\n",
    "\n",
    "# Copy chk and spn files\n",
    "shutil.copyfile(\"Pt.chk\", \"reduced_NB=24/Pt.chk\")\n",
    "shutil.copyfile(\"Pt.spn\", \"reduced_NB=24/Pt.spn\")\n",
    "\n",
    "os.chdir(\"..\")"
   ]
  },
  {
   "cell_type": "markdown",
   "id": "ee3730c6",
   "metadata": {},
   "source": [
    "Now, load the system object. Since all the data are in the `data_Pt/reduced_NB=24` directory, you should use the seedname `data_Pt/reduced_NB=24/Pt`."
   ]
  },
  {
   "cell_type": "code",
   "execution_count": null,
   "id": "f4562c2e",
   "metadata": {},
   "outputs": [],
   "source": [
    "system_mmn2uhu = wberri.System_w90(\"data_Pt/reduced_NB=24/Pt\", berry=True, SHCryoo=True, SHCqiao=True)\n",
    "system_mmn2uhu.set_structure([[0., 0., 0.]], [\"Pt\"])\n",
    "system_mmn2uhu.set_symmetry_from_structure()"
   ]
  },
  {
   "cell_type": "markdown",
   "id": "18b74042",
   "metadata": {},
   "source": [
    "### Problem: Compare the SHC computed using the sHu files from pw2wannier90 and mmn2uHu.\n",
    "\n",
    "Compute the SHC using `system` and `system_mmn2uHu`.\n",
    "Since the \"Qiao\" method does not use the sHu and sIu files, the two systems will give exactly the same result.\n",
    "This may not be the case for the \"Ryoo\" method.\n",
    "\n",
    "Use the keyword arguments given below (Fermi level scan at 0.026 meV ~ 300 K)."
   ]
  },
  {
   "cell_type": "code",
   "execution_count": null,
   "id": "27ba8652",
   "metadata": {},
   "outputs": [],
   "source": [
    "efermi_list = np.linspace(efermi - 1.0, efermi + 1.0, 101, True)\n",
    "\n",
    "kwargs = dict(\n",
    "    Efermi=efermi_list,\n",
    "    omega=np.array([0.]),\n",
    "    smr_fixed_width = 0.1, # Smearing for frequency in eV\n",
    "    kBT = 0.026, # Smearing for Fermi level (Fermi-Dirac factor) in eV (not Kelvin)\n",
    ")\n",
    "\n",
    "# Fill in the code below."
   ]
  },
  {
   "cell_type": "markdown",
   "id": "db854a3d",
   "metadata": {},
   "source": [
    "## Further questions\n",
    "\n",
    "If you are interested, try to answer the following questions:\n",
    "- Try to converge the calculation using a different value of `smr_fixed_width`. In principle, to achieve an ideal convergence to the zero-smearing limit, one needs to first converge SHC increasing the grid size for a fixed `smr_fixed_width`, and then repeat the procedure with smaller `smr_fixed_width` until convergence.\n",
    "- What happens if one include more bands in the NSCF calculation? Does the two methods converge to the same result? (To answer this question, one needs to perform additional DFT calculations.)"
   ]
  }
 ],
 "metadata": {
  "interpreter": {
   "hash": "31f2aee4e71d21fbe5cf8b01ff0e069b9275f58929596ceb00d14d90e3e16cd6"
  },
  "kernelspec": {
   "display_name": "Python 3 (ipykernel)",
   "language": "python",
   "name": "python3"
  },
  "language_info": {
   "codemirror_mode": {
    "name": "ipython",
    "version": 3
   },
   "file_extension": ".py",
   "mimetype": "text/x-python",
   "name": "python",
   "nbconvert_exporter": "python",
   "pygments_lexer": "ipython3",
   "version": "3.8.10"
  }
 },
 "nbformat": 4,
 "nbformat_minor": 5
}
